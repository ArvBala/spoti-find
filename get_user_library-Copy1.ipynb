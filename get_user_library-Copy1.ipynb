{
 "cells": [
  {
   "cell_type": "code",
   "execution_count": 106,
   "metadata": {},
   "outputs": [
    {
     "data": {
      "text/html": [
       "<style>.container { width:100% !important; }</style>"
      ],
      "text/plain": [
       "<IPython.core.display.HTML object>"
      ]
     },
     "metadata": {},
     "output_type": "display_data"
    }
   ],
   "source": [
    "from IPython.core.display import display, HTML\n",
    "display(HTML(\"<style>.container { width:100% !important; }</style>\"))\n",
    "\n",
    "import pandas as pd\n",
    "import requests\n",
    "import spotipy\n",
    "from spotipy.oauth2 import SpotifyClientCredentials #To access authorised Spotify data\n",
    "import spotipy.util as util\n",
    "import json\n",
    "import pprint\n",
    "\n",
    "client_id = ''\n",
    "client_secret = ''\n",
    "username = ''\n",
    "scope = 'user-library-read'\n",
    "redirect_uri = 'http://localhost:7778/callback'\n",
    "token_obj = util.prompt_for_user_token(\n",
    "    username=username, \n",
    "    scope=scope, \n",
    "    client_id=client_id,   \n",
    "    client_secret=client_secret,\n",
    "    redirect_uri=redirect_uri\n",
    ")"
   ]
  },
  {
   "cell_type": "code",
   "execution_count": 107,
   "metadata": {},
   "outputs": [],
   "source": [
    "def get_user_library(token):\n",
    "    user_saved_tracks = []\n",
    "    get_next_track_set = True\n",
    "    offset = 0\n",
    "    headers = {\n",
    "        'Authorization': 'Bearer {}'.format(token)\n",
    "    }\n",
    "    while get_next_track_set == True:\n",
    "        params = {'limit' : 50, 'offset' : offset}\n",
    "        response = requests.get('https://api.spotify.com/v1/me/tracks', headers=headers, params=params)\n",
    "        tracks_in_set = json.loads(response.text)\n",
    "        tracks_in_set = tracks_in_set['items']\n",
    "        if len(tracks_in_set) > 0:\n",
    "            user_saved_tracks = user_saved_tracks + tracks_in_set\n",
    "            offset = offset + 50\n",
    "        elif len(tracks_in_set) == 0:\n",
    "            get_next_track_set = False\n",
    "            \n",
    "    saved_tracks_formatted = []\n",
    "    for obj in user_saved_tracks:\n",
    "        added_at = obj['added_at']\n",
    "        track = obj['track']\n",
    "        \n",
    "        track_formatted = {\n",
    "            'track_id' : track['id'],\n",
    "            'saved_at' : added_at,\n",
    "            'track_name' : track['name'],\n",
    "            'primary_artist_id' : track['artists'][0]['id'],\n",
    "            'all_artists' : [artist['id'] for artist in track['artists']],\n",
    "            'album_id' : track['album']['id'],\n",
    "            'duration_ms' : track['duration_ms'],\n",
    "            'is_explicit' : track['explicit'],\n",
    "            'popularity': track['popularity'],\n",
    "            'track_number' : track['track_number']\n",
    "        }\n",
    "        saved_tracks_formatted.append(track_formatted)\n",
    "        \n",
    "    saved_tracks_df = pd.DataFrame(saved_tracks_formatted)\n",
    "    list_of_track_ids = list(saved_tracks_df['track_id'])\n",
    "    \n",
    "    all_track_features = []\n",
    "    lower_bound = 0\n",
    "    upper_bound = 99\n",
    "    for interval in range(0,len(list_of_track_ids),100):\n",
    "        track_features = requests.get('https://api.spotify.com/v1/audio-features/', headers=headers, params={'ids': ','.join(list_of_track_ids[lower_bound:upper_bound])})\n",
    "        track_features = json.loads(track_features.text)['audio_features']\n",
    "        all_track_features = all_track_features + track_features\n",
    "        lower_bound = upper_bound\n",
    "        upper_bound += 100\n",
    "    \n",
    "    track_features_df = pd.DataFrame(all_track_features)\n",
    "    \n",
    "    saved_tracks_df = saved_tracks_df.merge(track_features_df, how='left', left_on='track_id', right_on='id')\n",
    "    \n",
    "    saved_tracks_df = saved_tracks_df[\n",
    "        [\n",
    "            'album_id', 'all_artists', 'duration_ms_x', 'is_explicit', 'popularity',\n",
    "            'primary_artist_id', 'track_id', 'track_name', 'track_number',\n",
    "            'acousticness', 'danceability','energy', 'instrumentalness', \n",
    "            'key', 'liveness', 'loudness','mode', 'speechiness', 'tempo', \n",
    "            'time_signature', 'valence','saved_at'\n",
    "        ]\n",
    "    ]\n",
    "    \n",
    "    saved_tracks_df = saved_tracks_df.rename(columns={'duration_ms_x' : 'duration_ms'})\n",
    "    \n",
    "    saved_tracks_df = saved_tracks_df[['track_id','saved_at','track_name','primary_artist_id','all_artists','album_id','track_number','duration_ms','popularity','is_explicit','acousticness','danceability','energy','instrumentalness','key','liveness','loudness','mode','speechiness','tempo','time_signature','valence']]\n",
    "    \n",
    "    return saved_tracks_df"
   ]
  }
 ],
 "metadata": {
  "kernelspec": {
   "display_name": "Python 3",
   "language": "python",
   "name": "python3"
  },
  "language_info": {
   "codemirror_mode": {
    "name": "ipython",
    "version": 3
   },
   "file_extension": ".py",
   "mimetype": "text/x-python",
   "name": "python",
   "nbconvert_exporter": "python",
   "pygments_lexer": "ipython3",
   "version": "3.7.3"
  }
 },
 "nbformat": 4,
 "nbformat_minor": 2
}
